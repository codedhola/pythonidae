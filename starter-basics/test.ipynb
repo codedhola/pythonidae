{
 "cells": [
  {
   "cell_type": "code",
   "execution_count": 5,
   "metadata": {},
   "outputs": [
    {
     "name": "stdout",
     "output_type": "stream",
     "text": [
      "Hello coded, your password XXX characters is 3 in length\n"
     ]
    }
   ],
   "source": [
    "user_name = input(\"Please input your username: \")\n",
    "password = input(\"Input password \")\n",
    "\n",
    "password_len = len(password)\n",
    "\n",
    "print(f'Hello {user_name}, your password {\"X\" * password_len} characters is {password_len} in length')"
   ]
  },
  {
   "cell_type": "code",
   "execution_count": 9,
   "metadata": {},
   "outputs": [
    {
     "name": "stdout",
     "output_type": "stream",
     "text": [
      "python javscript c++ go\n",
      "['python', 'javscript', 'c++', 'go']\n"
     ]
    }
   ],
   "source": [
    "stacks = ['python', 'javscript', 'c++', 'go']\n",
    "\n",
    "print(\" \".join(stacks))\n",
    "print(stacks)"
   ]
  },
  {
   "cell_type": "code",
   "execution_count": null,
   "metadata": {},
   "outputs": [],
   "source": []
  }
 ],
 "metadata": {
  "kernelspec": {
   "display_name": "hola",
   "language": "python",
   "name": "python3"
  },
  "language_info": {
   "codemirror_mode": {
    "name": "ipython",
    "version": 3
   },
   "file_extension": ".py",
   "mimetype": "text/x-python",
   "name": "python",
   "nbconvert_exporter": "python",
   "pygments_lexer": "ipython3",
   "version": "3.11.4"
  },
  "orig_nbformat": 4
 },
 "nbformat": 4,
 "nbformat_minor": 2
}
