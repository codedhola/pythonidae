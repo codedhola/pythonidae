{
 "cells": [
  {
   "cell_type": "code",
   "execution_count": 5,
   "metadata": {},
   "outputs": [
    {
     "name": "stdout",
     "output_type": "stream",
     "text": [
      "Hello coded, your password XXX characters is 3 in length\n"
     ]
    }
   ],
   "source": [
    "user_name = input(\"Please input your username: \")\n",
    "password = input(\"Input password \")\n",
    "\n",
    "password_len = len(password)\n",
    "\n",
    "print(f'Hello {user_name}, your password {\"X\" * password_len} characters is {password_len} in length')"
   ]
  },
  {
   "cell_type": "code",
   "execution_count": 9,
   "metadata": {},
   "outputs": [
    {
     "name": "stdout",
     "output_type": "stream",
     "text": [
      "python javscript c++ go\n",
      "['python', 'javscript', 'c++', 'go']\n"
     ]
    }
   ],
   "source": [
    "stacks = ['python', 'javscript', 'c++', 'go']\n",
    "\n",
    "print(\" \".join(stacks))\n",
    "print(stacks)"
   ]
  },
  {
   "cell_type": "code",
   "execution_count": 15,
   "metadata": {},
   "outputs": [
    {
     "name": "stdout",
     "output_type": "stream",
     "text": [
      "0 : => : 0\n",
      "1 : => : 1\n",
      "2 : => : 2\n",
      "3 : => : 3\n",
      "4 : => : 4\n",
      " hello i am here\n",
      "6 : => : 6\n",
      "7 : => : 7\n",
      "8 : => : 8\n",
      "9 : => : 9\n",
      "Exited Code box\n"
     ]
    }
   ],
   "source": [
    "for i, char in enumerate(list(range(10))):\n",
    "  if i == 5:\n",
    "    print(\" hello i am here\")\n",
    "  else: \n",
    "    print(f\"{i} : => : {char}\") \n",
    "    \n",
    "while True:\n",
    "    response = input('Enter your Command')\n",
    "    if response == 'exit':\n",
    "      print('Exited Code box')\n",
    "      break"
   ]
  },
  {
   "cell_type": "code",
   "execution_count": 34,
   "metadata": {},
   "outputs": [
    {
     "name": "stdout",
     "output_type": "stream",
     "text": [
      "[' ', ' ', ' ', '*', ' ', ' ', ' ']\n",
      "[' ', ' ', '*', '*', '*', ' ', ' ']\n",
      "[' ', '*', '*', '*', '*', '*', ' ']\n",
      "['*', '*', '*', '*', '*', '*', '*']\n",
      "[' ', ' ', '*', '*', '*', ' ', ' ']\n",
      "[' ', ' ', ' ', '*', ' ', ' ', ' ']\n",
      "\n",
      "\n",
      "\n",
      "      *       \n",
      "    * * *     \n",
      "  * * * * *   \n",
      "* * * * * * * \n",
      "    * * *     \n",
      "      *       \n"
     ]
    }
   ],
   "source": [
    "picture = [\n",
    "  [0, 0, 0, 1, 0, 0, 0],\n",
    "  [0, 0, 1, 1, 1, 0, 0],\n",
    "  [0, 1, 1, 1, 1, 1, 0],\n",
    "  [1, 1, 1, 1, 1, 1, 1],\n",
    "  [0, 0, 1, 1, 1, 0, 0],\n",
    "  [0, 0, 0, 1, 0, 0, 0]\n",
    "]\n",
    "\n",
    "translate_picture = []\n",
    "for x in picture:\n",
    "  inner_picture = []\n",
    "  for y in x:\n",
    "    if y == 0:\n",
    "      inner_picture.append(\" \")\n",
    "    else: \n",
    "      inner_picture.append(\"*\")\n",
    "      \n",
    "    \n",
    "  print(inner_picture)\n",
    "  \n",
    "print(\"\\n\\n\")\n",
    "  \n",
    "for row in picture:\n",
    "  for pixel in row:\n",
    "    if pixel == 1:\n",
    "      print(\"*\", end=\" \")\n",
    "    else:\n",
    "      print(\" \", end=\" \")\n",
    "  print(\"\")"
   ]
  },
  {
   "cell_type": "code",
   "execution_count": 35,
   "metadata": {},
   "outputs": [
    {
     "name": "stdout",
     "output_type": "stream",
     "text": [
      "['f', 'h']\n"
     ]
    }
   ],
   "source": [
    "## DUPLICATE ALGORITHM\n",
    "some_list = ['a', 'b', 'c', 'd', 'e', 'f', 'f', 'g', 'h', 'h']\n",
    "\n",
    "duplicate = []\n",
    "for value in some_list:\n",
    "  if some_list.count(value) > 1:\n",
    "    if value not in duplicate:\n",
    "      duplicate.append(value)\n",
    "      \n",
    "print(duplicate)"
   ]
  }
 ],
 "metadata": {
  "kernelspec": {
   "display_name": "hola",
   "language": "python",
   "name": "python3"
  },
  "language_info": {
   "codemirror_mode": {
    "name": "ipython",
    "version": 3
   },
   "file_extension": ".py",
   "mimetype": "text/x-python",
   "name": "python",
   "nbconvert_exporter": "python",
   "pygments_lexer": "ipython3",
   "version": "3.11.4"
  },
  "orig_nbformat": 4
 },
 "nbformat": 4,
 "nbformat_minor": 2
}
